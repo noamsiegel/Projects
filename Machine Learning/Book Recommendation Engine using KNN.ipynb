{
  "nbformat": 4,
  "nbformat_minor": 0,
  "metadata": {
    "colab": {
      "private_outputs": true,
      "provenance": [],
      "authorship_tag": "ABX9TyPCvGtImksjTkoDj73s9wDk",
      "include_colab_link": true
    },
    "kernelspec": {
      "name": "python3",
      "display_name": "Python 3"
    },
    "language_info": {
      "name": "python"
    }
  },
  "cells": [
    {
      "cell_type": "markdown",
      "metadata": {
        "id": "view-in-github",
        "colab_type": "text"
      },
      "source": [
        "<a href=\"https://colab.research.google.com/github/noamsiegel/Projects/blob/main/Book_Recommendation_Engine_using_KNN.ipynb\" target=\"_parent\"><img src=\"https://colab.research.google.com/assets/colab-badge.svg\" alt=\"Open In Colab\"/></a>"
      ]
    },
    {
      "cell_type": "code",
      "execution_count": null,
      "metadata": {
        "cellView": "form",
        "id": "W6lmSlzGaa8f"
      },
      "outputs": [],
      "source": [
        "#@title Libraries\n",
        "import numpy as np\n",
        "import pandas as pd\n",
        "from scipy.sparse import csr_matrix\n",
        "from sklearn.neighbors import NearestNeighbors\n",
        "import matplotlib.pyplot as plt"
      ]
    },
    {
      "cell_type": "code",
      "source": [
        "#@title Data Files\n",
        "!wget https://cdn.freecodecamp.org/project-data/books/book-crossings.zip\n",
        "\n",
        "!unzip book-crossings.zip\n",
        "\n",
        "books_filename = 'BX-Books.csv'\n",
        "ratings_filename = 'BX-Book-Ratings.csv'"
      ],
      "metadata": {
        "cellView": "form",
        "id": "zXnotmNcamK5"
      },
      "execution_count": null,
      "outputs": []
    },
    {
      "cell_type": "code",
      "source": [
        "#@title CSV Data -> dataframes\n",
        "df_books = pd.read_csv(\n",
        "    books_filename,\n",
        "    encoding = \"ISO-8859-1\",\n",
        "    sep=\";\",\n",
        "    header=0,\n",
        "    names=['isbn', 'title', 'author'],\n",
        "    usecols=['isbn', 'title', 'author'],\n",
        "    dtype={'isbn': 'str', 'title': 'str', 'author': 'str'})\n",
        "\n",
        "df_ratings = pd.read_csv(\n",
        "    ratings_filename,\n",
        "    encoding = \"ISO-8859-1\",\n",
        "    sep=\";\",\n",
        "    header=0,\n",
        "    names=['user', 'isbn', 'rating'],\n",
        "    usecols=['user', 'isbn', 'rating'],\n",
        "    dtype={'user': 'int32', 'isbn': 'str', 'rating': 'float32'})"
      ],
      "metadata": {
        "cellView": "form",
        "id": "-ivvczoCazJI"
      },
      "execution_count": null,
      "outputs": []
    },
    {
      "cell_type": "code",
      "source": [
        "#@title Cleaning the data\n",
        "\n",
        "# drop null authors\n",
        "df_books_cleaned = df_books.loc[~df_books.author.isnull()]\n",
        "df_books_cleaned.isnull().sum()\n",
        "\n",
        "# drop users without over 200 ratings\n",
        "active_users = df_ratings.user.value_counts()[df_ratings.user.value_counts()>=200].index\n",
        "\n",
        "# drop books that have fewer than 100 ratings\n",
        "popular_books = df_ratings.isbn.value_counts()[df_ratings.isbn.value_counts()>=100].index\n",
        "\n",
        "# make official data frames for books and ratings\n",
        "df_ratings_cleaned = df_ratings.loc[(df_ratings.user.isin(active_users))]\n",
        "df_books_cleaned = df_books_cleaned.loc[(df_books_cleaned.isbn.isin(popular_books))]\n",
        "\n",
        "# merge dataframes\n",
        "df_merged = pd.merge(left=df_ratings_cleaned,right= df_books_cleaned, on='isbn', how='inner')\n",
        "\n",
        "# drop duplicates in merged dataframe\n",
        "df_unique = df_merged.drop_duplicates([\"title\",\"user\"])\n",
        "\n",
        "# create pivot and sort it\n",
        "pivot = df_unique.pivot(index='title', columns='user', values='rating').fillna(0)\n",
        "pivot = pivot.sort_index()\n",
        "\n",
        "# create model\n",
        "input = pivot.values\n",
        "model = NearestNeighbors(metric='cosine', algorithm='brute')\n",
        "model.fit(input)"
      ],
      "metadata": {
        "cellView": "form",
        "id": "deQSfirWan_6"
      },
      "execution_count": null,
      "outputs": []
    },
    {
      "cell_type": "code",
      "source": [
        "#@title Recommended Books Function\n",
        "\n",
        "def get_recommends(book = \"Where the Heart Is (Oprah's Book Club (Paperback))\"):\n",
        "  \n",
        "  # creating five recommened books\n",
        "  dist, suggested_books = model.kneighbors(pivot.loc[book].values.reshape(1,-1), n_neighbors=6)\n",
        "  \n",
        "  books = pivot.iloc[suggested_books[0]].index.values\n",
        "  result = list(zip(books, dist[0]))\n",
        "  result[0] = result[0][0]\n",
        "  result[1] = sorted([[book,distance] for book,distance in result[1:]], key=lambda x: -x[1])[:4]\n",
        "  recommended_books = result[:2]\n",
        "  \n",
        "  return recommended_books"
      ],
      "metadata": {
        "cellView": "form",
        "id": "uz1GB_bjar53"
      },
      "execution_count": null,
      "outputs": []
    },
    {
      "cell_type": "code",
      "source": [
        "#@title Challenge Testing\n",
        "books = get_recommends(\"Where the Heart Is (Oprah's Book Club (Paperback))\")\n",
        "print(books)\n",
        "\n",
        "# function testing\n",
        "def test_book_recommendation():\n",
        "  test_pass = True\n",
        "  recommends = get_recommends(\"Where the Heart Is (Oprah's Book Club (Paperback))\")\n",
        "  if recommends[0] != \"Where the Heart Is (Oprah's Book Club (Paperback))\":\n",
        "    test_pass = False\n",
        "  recommended_books = [\"I'll Be Seeing You\", 'The Weight of Water', 'The Surgeon', 'I Know This Much Is True']\n",
        "  recommended_books_dist = [0.8, 0.77, 0.77, 0.77]\n",
        "  for i in range(2): \n",
        "    if recommends[1][i][0] not in recommended_books:\n",
        "      test_pass = False\n",
        "    if abs(recommends[1][i][1] - recommended_books_dist[i]) >= 0.05:\n",
        "      test_pass = False\n",
        "  if test_pass:\n",
        "    print(\"You passed the challenge! 🎉🎉🎉🎉🎉\")\n",
        "  else:\n",
        "    print(\"You haven't passed yet. Keep trying!\")"
      ],
      "metadata": {
        "cellView": "form",
        "id": "QsGkOmY-asjA"
      },
      "execution_count": null,
      "outputs": []
    }
  ]
}

https://colab.research.google.com/drive/1ERrqQu37xhfWsuBUPvgZ2YF_A_68dEqE?usp=sharing
