{
  "cells": [
    {
      "cell_type": "markdown",
      "metadata": {
        "id": "view-in-github",
        "colab_type": "text"
      },
      "source": [
        "<a href=\"https://colab.research.google.com/github/noamsiegel/Certifications/blob/main/fcc_book_recommendation_knn.ipynb\" target=\"_parent\"><img src=\"https://colab.research.google.com/assets/colab-badge.svg\" alt=\"Open In Colab\"/></a>"
      ]
    },
    {
      "cell_type": "code",
      "execution_count": 31,
      "metadata": {
        "id": "Y1onB6kUvo4Z"
      },
      "outputs": [],
      "source": [
        "# import libraries (you may add additional imports but you may not have to)\n",
        "import numpy as np\n",
        "import pandas as pd\n",
        "from scipy.sparse import csr_matrix\n",
        "from sklearn.neighbors import NearestNeighbors\n",
        "import matplotlib.pyplot as plt"
      ]
    },
    {
      "cell_type": "code",
      "execution_count": 32,
      "metadata": {
        "id": "iAQGqqO_vo4d",
        "outputId": "b326b078-1456-44ee-8dc7-139ce4babda9",
        "colab": {
          "base_uri": "https://localhost:8080/"
        }
      },
      "outputs": [
        {
          "output_type": "stream",
          "name": "stdout",
          "text": [
            "--2023-02-26 20:36:28--  https://cdn.freecodecamp.org/project-data/books/book-crossings.zip\n",
            "Resolving cdn.freecodecamp.org (cdn.freecodecamp.org)... 104.26.3.33, 172.67.70.149, 104.26.2.33, ...\n",
            "Connecting to cdn.freecodecamp.org (cdn.freecodecamp.org)|104.26.3.33|:443... connected.\n",
            "HTTP request sent, awaiting response... 200 OK\n",
            "Length: 26085508 (25M) [application/zip]\n",
            "Saving to: ‘book-crossings.zip.5’\n",
            "\n",
            "book-crossings.zip. 100%[===================>]  24.88M  99.8MB/s    in 0.2s    \n",
            "\n",
            "2023-02-26 20:36:29 (99.8 MB/s) - ‘book-crossings.zip.5’ saved [26085508/26085508]\n",
            "\n",
            "Archive:  book-crossings.zip\n",
            "replace BX-Book-Ratings.csv? [y]es, [n]o, [A]ll, [N]one, [r]ename: y\n",
            "  inflating: BX-Book-Ratings.csv     \n",
            "replace BX-Books.csv? [y]es, [n]o, [A]ll, [N]one, [r]ename: y\n",
            "  inflating: BX-Books.csv            y\n",
            "\n",
            "replace BX-Users.csv? [y]es, [n]o, [A]ll, [N]one, [r]ename:   inflating: BX-Users.csv            \n"
          ]
        }
      ],
      "source": [
        "# get data files\n",
        "!wget https://cdn.freecodecamp.org/project-data/books/book-crossings.zip\n",
        "\n",
        "!unzip book-crossings.zip\n",
        "\n",
        "books_filename = 'BX-Books.csv'\n",
        "ratings_filename = 'BX-Book-Ratings.csv'"
      ]
    },
    {
      "cell_type": "code",
      "execution_count": 33,
      "metadata": {
        "id": "NClILWOiEd6Q"
      },
      "outputs": [],
      "source": [
        "# import csv data into dataframes\n",
        "df_books = pd.read_csv(\n",
        "    books_filename,\n",
        "    encoding = \"ISO-8859-1\",\n",
        "    sep=\";\",\n",
        "    header=0,\n",
        "    names=['isbn', 'title', 'author'],\n",
        "    usecols=['isbn', 'title', 'author'],\n",
        "    dtype={'isbn': 'str', 'title': 'str', 'author': 'str'})\n",
        "\n",
        "df_ratings = pd.read_csv(\n",
        "    ratings_filename,\n",
        "    encoding = \"ISO-8859-1\",\n",
        "    sep=\";\",\n",
        "    header=0,\n",
        "    names=['user', 'isbn', 'rating'],\n",
        "    usecols=['user', 'isbn', 'rating'],\n",
        "    dtype={'user': 'int32', 'isbn': 'str', 'rating': 'float32'})"
      ]
    },
    {
      "cell_type": "code",
      "source": [
        "#@title Cleaning the data\n",
        "\n",
        "# drop null authors\n",
        "df_books_cleaned = df_books.loc[~df_books.author.isnull()]\n",
        "df_books_cleaned.isnull().sum()\n",
        "\n",
        "# drop users without over 200 ratings\n",
        "active_users = df_ratings.user.value_counts()[df_ratings.user.value_counts()>=200].index\n",
        "\n",
        "# drop books that have fewer than 100 ratings\n",
        "popular_books = df_ratings.isbn.value_counts()[df_ratings.isbn.value_counts()>=100].index\n",
        "\n",
        "# make official data frames for books and ratings\n",
        "df_ratings_cleaned = df_ratings.loc[(df_ratings.user.isin(active_users))]\n",
        "df_books_cleaned = df_books_cleaned.loc[(df_books_cleaned.isbn.isin(popular_books))]\n",
        "\n",
        "# merge dataframes\n",
        "df_merged = pd.merge(left=df_ratings_cleaned,right= df_books_cleaned, on='isbn', how='inner')\n",
        "\n",
        "# drop duplicates in merged dataframe\n",
        "df_unique = df_merged.drop_duplicates([\"title\",\"user\"])\n",
        "\n",
        "# create pivot and sort it\n",
        "pivot = df_unique.pivot(index='title', columns='user', values='rating').fillna(0)\n",
        "pivot = pivot.sort_index()\n",
        "\n",
        "# create model\n",
        "input = pivot.values\n",
        "model = NearestNeighbors(metric='cosine', algorithm='brute')\n",
        "model.fit(input)"
      ],
      "metadata": {
        "id": "CY2OhQGZb65D",
        "outputId": "d266fcc1-f181-4513-92c3-78327cb0230a",
        "colab": {
          "base_uri": "https://localhost:8080/"
        }
      },
      "execution_count": 38,
      "outputs": [
        {
          "output_type": "execute_result",
          "data": {
            "text/plain": [
              "NearestNeighbors(algorithm='brute', metric='cosine')"
            ]
          },
          "metadata": {},
          "execution_count": 38
        }
      ]
    },
    {
      "cell_type": "code",
      "source": [
        "#@title Recommended Books Function\n",
        "\n",
        "def get_recommends(book = \"Where the Heart Is (Oprah's Book Club (Paperback))\"):\n",
        "  \n",
        "  # creating five recommened books\n",
        "  dist, suggested_books = model.kneighbors(pivot.loc[book].values.reshape(1,-1), n_neighbors=6)\n",
        "  \n",
        "  books = pivot.iloc[suggested_books[0]].index.values\n",
        "  result = list(zip(books, dist[0]))\n",
        "  result[0] = result[0][0]\n",
        "  result[1] = sorted([[book,distance] for book,distance in result[1:]], key=lambda x: -x[1])[:4]\n",
        "  recommended_books = result[:2]\n",
        "  \n",
        "  return recommended_books"
      ],
      "metadata": {
        "id": "xjo8iATccdpj"
      },
      "execution_count": 40,
      "outputs": []
    },
    {
      "cell_type": "code",
      "execution_count": 41,
      "metadata": {
        "id": "jd2SLCh8oxMh",
        "outputId": "cde454a2-a357-4e7c-8b8a-0b2ef9320703",
        "colab": {
          "base_uri": "https://localhost:8080/"
        }
      },
      "outputs": [
        {
          "output_type": "stream",
          "name": "stdout",
          "text": [
            "[\"Where the Heart Is (Oprah's Book Club (Paperback))\", [[\"I'll Be Seeing You\", 0.8016211], ['The Weight of Water', 0.77085835], ['The Surgeon', 0.7699411], ['I Know This Much Is True', 0.7677075]]]\n",
            "You passed the challenge! 🎉🎉🎉🎉🎉\n"
          ]
        }
      ],
      "source": [
        "#@title Challenge Testing\n",
        "books = get_recommends(\"Where the Heart Is (Oprah's Book Club (Paperback))\")\n",
        "print(books)\n",
        "\n",
        "# function testing\n",
        "def test_book_recommendation():\n",
        "  test_pass = True\n",
        "  recommends = get_recommends(\"Where the Heart Is (Oprah's Book Club (Paperback))\")\n",
        "  if recommends[0] != \"Where the Heart Is (Oprah's Book Club (Paperback))\":\n",
        "    test_pass = False\n",
        "  recommended_books = [\"I'll Be Seeing You\", 'The Weight of Water', 'The Surgeon', 'I Know This Much Is True']\n",
        "  recommended_books_dist = [0.8, 0.77, 0.77, 0.77]\n",
        "  for i in range(2): \n",
        "    if recommends[1][i][0] not in recommended_books:\n",
        "      test_pass = False\n",
        "    if abs(recommends[1][i][1] - recommended_books_dist[i]) >= 0.05:\n",
        "      test_pass = False\n",
        "  if test_pass:\n",
        "    print(\"You passed the challenge! 🎉🎉🎉🎉🎉\")\n",
        "  else:\n",
        "    print(\"You haven't passed yet. Keep trying!\")\n",
        "\n",
        "test_book_recommendation()"
      ]
    }
  ],
  "metadata": {
    "colab": {
      "name": "fcc_book_recommendation_knn.ipynb",
      "provenance": [],
      "include_colab_link": true
    },
    "kernelspec": {
      "display_name": "Python 3",
      "language": "python",
      "name": "python3"
    },
    "language_info": {
      "codemirror_mode": {
        "name": "ipython",
        "version": 3
      },
      "file_extension": ".py",
      "mimetype": "text/x-python",
      "name": "python",
      "nbconvert_exporter": "python",
      "pygments_lexer": "ipython3",
      "version": "3.6.5"
    }
  },
  "nbformat": 4,
  "nbformat_minor": 0
}
